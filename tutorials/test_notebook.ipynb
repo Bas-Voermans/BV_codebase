{
 "cells": [
  {
   "cell_type": "markdown",
   "metadata": {},
   "source": [
    "# The Test Notebook\n",
    "In this notebook, we will be exploring machine learning model training and evaluation using the `utils` module from the `machine_learning` package. We will be working with two types of tasks: regression and classification. This notebook serves to test whether the functions work, and to test new implementations.\n"
   ]
  },
  {
   "cell_type": "markdown",
   "metadata": {},
   "source": [
    "\n",
    "## Importing Libraries and Modules\n",
    "This cell is responsible for importing the necessary libraries and modules for the notebook. It imports `numpy` for numerical operations and `sys` for system-specific parameters and functions. It also appends the path to the codebase to the system path, which allows the notebook to import modules from that directory. Finally, it imports the `utils` module from the `machine_learning` package.\n"
   ]
  },
  {
   "cell_type": "code",
   "execution_count": 1,
   "metadata": {},
   "outputs": [],
   "source": [
    "import numpy as np\n",
    "import sys\n",
    "\n",
    "#This should be the location where you have stored the codebase on your computer\n",
    "sys.path.append('C:\\\\Users\\\\basvo\\\\Documents\\\\GitHub\\\\BV_codebase')\n",
    "\n",
    "from machine_learning import utils"
   ]
  },
  {
   "cell_type": "markdown",
   "metadata": {},
   "source": [
    "## Data Generation\n",
    "This cell generates the data that will be used in the notebook. It creates a 2D numpy array `X` with 50 rows and 10 columns, filled with random floats from a normal distribution with a mean of 0 and a standard deviation of 1. It also creates two 1D numpy arrays `y` and `y_cont`. `y` is filled with random integers that are either 0 or 1, and `y_cont` is filled with random floats from a normal distribution with a mean of 0 and a standard deviation of 1.\n"
   ]
  },
  {
   "cell_type": "code",
   "execution_count": 2,
   "metadata": {},
   "outputs": [],
   "source": [
    "# Generate a 2D numpy array of 50 rows and 10 columns\n",
    "# filled with random floats with a mean of 0 and an sd of 1\n",
    "X = np.random.normal(0, 1, (50, 10))\n",
    "\n",
    "# Generate a numpy vector of length 50 that has random integers that are either 0 or 1\n",
    "y = np.random.randint(2, size=50)\n",
    "y_cont = np.random.normal(0, 1, size=50)\n"
   ]
  },
  {
   "cell_type": "markdown",
   "metadata": {},
   "source": [
    "## Regression Model Training and Evaluation\n",
    "This cell defines parameters for the `perform_stability_runs_regression` function from the `utils` module and calls this function. The function performs stability runs for a regression task. It splits the data into training and testing sets multiple times, fits the model, makes predictions, and calculates scores. The results are stored in a dictionary and returned. The `verbosity` parameter controls the level of output printed to the console.\n"
   ]
  },
  {
   "cell_type": "code",
   "execution_count": 3,
   "metadata": {},
   "outputs": [
    {
     "name": "stdout",
     "output_type": "stream",
     "text": [
      "train_scores: 0.9057176763762202\n",
      "val_scores: 1.029776826334084\n",
      "test_scores: 0.9196891642457506\n",
      "\n",
      "getting permutation importances\n"
     ]
    },
    {
     "name": "stderr",
     "output_type": "stream",
     "text": [
      "100%|██████████| 10/10 [00:00<00:00, 6654.46it/s]\n"
     ]
    },
    {
     "name": "stdout",
     "output_type": "stream",
     "text": [
      "shuffle 1 done\n",
      "train_scores: 0.9057176763762202 +\\- 0.0\n",
      "val_scores: 1.029776826334084 +\\- 0.0\n",
      "test_scores: 0.9196891642457506 +\\- 0.0\n",
      "\n"
     ]
    }
   ],
   "source": [
    "method_params = {\n",
    "    'algo':'xtr',\n",
    "    'task':'regression',\n",
    "    'imp_algo': utils.get_perm_imp,\n",
    "}\n",
    "\n",
    "results_dict = utils.perform_stability_runs_regression(\n",
    "    X, \n",
    "    y_cont, \n",
    "    test_size=0.2,\n",
    "    n_splits=5,\n",
    "    method_params=method_params, \n",
    "    return_importances=True, \n",
    "    verbosity=2\n",
    "    )"
   ]
  },
  {
   "cell_type": "markdown",
   "metadata": {},
   "source": [
    "## Classification Model Training and Evaluation\n",
    "This cell defines parameters for the `perform_stability_runs_classification` function from the `utils` module and calls this function. The function performs stability runs for a classification task. It splits the data into training and testing sets multiple times, fits the model, makes predictions, and calculates scores. The results are stored in a dictionary and returned. The `verbosity` parameter controls the level of output printed to the console.\n"
   ]
  },
  {
   "cell_type": "code",
   "execution_count": null,
   "metadata": {},
   "outputs": [
    {
     "name": "stdout",
     "output_type": "stream",
     "text": [
      "shuffle 1 done\n",
      "train_scores: 0.9323308270676691 +\\- 0.0\n",
      "val_scores: 0.7653061224489797 +\\- 0.0\n",
      "test_scores: 0.32 +\\- 0.0\n",
      "\n",
      "shuffle 2 done\n",
      "train_scores: 0.9298245614035088 +\\- 0.0025062656641603454\n",
      "val_scores: 0.685374149659864 +\\- 0.07993197278911568\n",
      "test_scores: 0.52 +\\- 0.20000000000000007\n",
      "\n",
      "shuffle 3 done\n",
      "train_scores: 0.9055973266499583 +\\- 0.03432353982318149\n",
      "val_scores: 0.67989417989418 +\\- 0.06572270272317556\n",
      "test_scores: 0.6266666666666666 +\\- 0.22231109334044089\n",
      "\n",
      "shuffle 4 done\n",
      "train_scores: 0.8953634085213033 +\\- 0.034608933532936016\n",
      "val_scores: 0.6867913832199547 +\\- 0.05815771213760402\n",
      "test_scores: 0.62 +\\- 0.19287301521985908\n",
      "\n",
      "shuffle 5 done\n",
      "train_scores: 0.8902255639097744 +\\- 0.03261613731327806\n",
      "val_scores: 0.6868480725623584 +\\- 0.05201796266281966\n",
      "test_scores: 0.64 +\\- 0.17708754896942921\n",
      "\n"
     ]
    }
   ],
   "source": [
    "method_params = {\n",
    "    'algo':'xtr',\n",
    "    'task':'classify'\n",
    "}\n",
    "\n",
    "results_dict = utils.perform_stability_runs_classification(\n",
    "    X, \n",
    "    y, \n",
    "    test_size=0.2,\n",
    "    n_splits=5,\n",
    "    method_params=method_params, \n",
    "    verbosity=1\n",
    "    )"
   ]
  }
 ],
 "metadata": {
  "kernelspec": {
   "display_name": "baria_5y",
   "language": "python",
   "name": "python3"
  },
  "language_info": {
   "codemirror_mode": {
    "name": "ipython",
    "version": 3
   },
   "file_extension": ".py",
   "mimetype": "text/x-python",
   "name": "python",
   "nbconvert_exporter": "python",
   "pygments_lexer": "ipython3",
   "version": "3.9.18"
  }
 },
 "nbformat": 4,
 "nbformat_minor": 2
}
