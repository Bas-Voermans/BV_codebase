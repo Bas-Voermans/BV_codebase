{
 "cells": [
  {
   "cell_type": "code",
   "execution_count": 1,
   "metadata": {},
   "outputs": [],
   "source": [
    "import numpy as np\n",
    "import sys\n",
    "\n",
    "#This should be the location where you have stored the codebase on your computer\n",
    "sys.path.append('C:\\\\Users\\\\basvo\\\\Documents\\\\GitHub\\\\BV_codebase')\n",
    "\n",
    "from machine_learning.utils import perform_stability_runs_classification,get_perm_imp"
   ]
  },
  {
   "cell_type": "code",
   "execution_count": 2,
   "metadata": {},
   "outputs": [],
   "source": [
    "\n",
    "\n",
    "# Generate a 2D numpy array of 50 rows and 10 columns\n",
    "# filled with random floats with a mean of 0 and an sd of 1\n",
    "X = np.random.normal(0, 1, (50, 10))\n",
    " \n",
    "# Generate a numpy vector of length 50 that has random integers that are either 0 or 1\n",
    "y = np.random.randint(2, size=50)\n"
   ]
  },
  {
   "cell_type": "code",
   "execution_count": 3,
   "metadata": {},
   "outputs": [],
   "source": [
    "method_params = {\n",
    "    'algo':'xtr',\n",
    "    'imp_algo':get_perm_imp,\n",
    "}"
   ]
  },
  {
   "cell_type": "code",
   "execution_count": 4,
   "metadata": {},
   "outputs": [
    {
     "name": "stdout",
     "output_type": "stream",
     "text": [
      "10\n",
      "getting permutation importances\n"
     ]
    },
    {
     "name": "stderr",
     "output_type": "stream",
     "text": [
      "100%|██████████| 10/10 [00:00<00:00, 9974.56it/s]\n"
     ]
    },
    {
     "name": "stdout",
     "output_type": "stream",
     "text": [
      "shuffle 1 done\n",
      "train_scores: 0.9875 +\\- 0.0\n",
      "val_scores: 0.582766439909297 +\\- 0.0\n",
      "test_scores: 0.44000000000000006 +\\- 0.0\n",
      "\n",
      "10\n",
      "getting permutation importances\n"
     ]
    },
    {
     "name": "stderr",
     "output_type": "stream",
     "text": [
      "100%|██████████| 10/10 [00:00<00:00, 9988.82it/s]\n"
     ]
    },
    {
     "name": "stdout",
     "output_type": "stream",
     "text": [
      "shuffle 2 done\n",
      "train_scores: 0.935 +\\- 0.05250000000000005\n",
      "val_scores: 0.6094104308390023 +\\- 0.026643990929705264\n",
      "test_scores: 0.4 +\\- 0.040000000000000036\n",
      "\n",
      "10\n",
      "getting permutation importances\n"
     ]
    },
    {
     "name": "stderr",
     "output_type": "stream",
     "text": [
      "100%|██████████| 10/10 [00:00<?, ?it/s]\n"
     ]
    },
    {
     "name": "stdout",
     "output_type": "stream",
     "text": [
      "shuffle 3 done\n",
      "train_scores: 0.9091666666666667 +\\- 0.05632248416238602\n",
      "val_scores: 0.6413454270597128 +\\- 0.050129393928862384\n",
      "test_scores: 0.4000000000000001 +\\- 0.03265986323710907\n",
      "\n",
      "10\n",
      "getting permutation importances\n"
     ]
    },
    {
     "name": "stderr",
     "output_type": "stream",
     "text": [
      "100%|██████████| 10/10 [00:00<00:00, 9995.96it/s]"
     ]
    },
    {
     "name": "stdout",
     "output_type": "stream",
     "text": [
      "shuffle 4 done\n",
      "train_scores: 0.905625 +\\- 0.04916092833745109\n",
      "val_scores: 0.6420068027210885 +\\- 0.043428439472915435\n",
      "test_scores: 0.37000000000000005 +\\- 0.0591607978309962\n",
      "\n"
     ]
    },
    {
     "name": "stderr",
     "output_type": "stream",
     "text": [
      "\n"
     ]
    },
    {
     "name": "stdout",
     "output_type": "stream",
     "text": [
      "10\n",
      "getting permutation importances\n"
     ]
    },
    {
     "name": "stderr",
     "output_type": "stream",
     "text": [
      "100%|██████████| 10/10 [00:00<00:00, 9976.94it/s]\n"
     ]
    },
    {
     "name": "stdout",
     "output_type": "stream",
     "text": [
      "shuffle 5 done\n",
      "train_scores: 0.9245000000000001 +\\- 0.05795256681114306\n",
      "val_scores: 0.6812925170068027 +\\- 0.08764869007462259\n",
      "test_scores: 0.336 +\\- 0.08616263691415207\n",
      "\n"
     ]
    }
   ],
   "source": [
    "results_dict = perform_stability_runs_classification(\n",
    "    X, \n",
    "    y, \n",
    "    test_size=0.2,\n",
    "    n_splits=5,method_params=method_params, return_importances=True, verbosity=1)"
   ]
  },
  {
   "cell_type": "code",
   "execution_count": 5,
   "metadata": {},
   "outputs": [
    {
     "name": "stdout",
     "output_type": "stream",
     "text": [
      "[[0.05600000000000001, 0.04800000000000005, 0.12800000000000006, 0.048, 0.10400000000000005, 0.04800000000000002, 0.03600000000000002, 0.10000000000000002, 0.04800000000000003, 0.052000000000000046], [0.06399999999999999, 0.05599999999999995, 0.084, 0.10000000000000002, 0.04399999999999998, 0.05599999999999998, 0.08399999999999999, 0.09600000000000003, 0.06799999999999999, 0.011999999999999993], [0.08800000000000001, 0.14800000000000005, 0.192, 0.048, 0.0, 0.007999999999999997, 0.10000000000000002, 0.0, 0.03600000000000002, 0.04000000000000002], [0.044000000000000004, 0.06000000000000002, 0.1, 0.03599999999999999, 0.044000000000000004, 0.19200000000000006, 0.03200000000000003, 0.09600000000000004, 0.12000000000000002, 0.052000000000000025], [2.7755575615628915e-18, 0.004000000000000001, 0.09799999999999998, 0.03600000000000001, 0.012, 0.0, 0.01, 0.09199999999999997, 0.024000000000000007, 0.05800000000000002]]\n"
     ]
    }
   ],
   "source": [
    "print(results_dict['feat_imps'])"
   ]
  }
 ],
 "metadata": {
  "kernelspec": {
   "display_name": "baria_5y",
   "language": "python",
   "name": "python3"
  },
  "language_info": {
   "codemirror_mode": {
    "name": "ipython",
    "version": 3
   },
   "file_extension": ".py",
   "mimetype": "text/x-python",
   "name": "python",
   "nbconvert_exporter": "python",
   "pygments_lexer": "ipython3",
   "version": "3.9.18"
  }
 },
 "nbformat": 4,
 "nbformat_minor": 2
}
