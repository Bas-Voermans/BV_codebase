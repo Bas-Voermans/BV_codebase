{
 "cells": [
  {
   "cell_type": "code",
   "execution_count": 1,
   "metadata": {},
   "outputs": [
    {
     "ename": "NameError",
     "evalue": "name 'models' is not defined",
     "output_type": "error",
     "traceback": [
      "\u001b[1;31m---------------------------------------------------------------------------\u001b[0m",
      "\u001b[1;31mNameError\u001b[0m                                 Traceback (most recent call last)",
      "Cell \u001b[1;32mIn[1], line 16\u001b[0m\n\u001b[0;32m      8\u001b[0m sys\u001b[38;5;241m.\u001b[39mpath\u001b[38;5;241m.\u001b[39mappend(os\u001b[38;5;241m.\u001b[39mchdir)\n\u001b[0;32m      9\u001b[0m \u001b[38;5;28;01mfrom\u001b[39;00m \u001b[38;5;21;01mmodels\u001b[39;00m \u001b[38;5;28;01mimport\u001b[39;00m tree\n\u001b[0;32m     11\u001b[0m \u001b[38;5;28;01mdef\u001b[39;00m \u001b[38;5;21mperform_stability_runs_classification\u001b[39m(\n\u001b[0;32m     12\u001b[0m     X,\n\u001b[0;32m     13\u001b[0m     y,\n\u001b[0;32m     14\u001b[0m     test_size,\n\u001b[0;32m     15\u001b[0m     n_splits \u001b[38;5;241m=\u001b[39m \u001b[38;5;241m10\u001b[39m,\n\u001b[1;32m---> 16\u001b[0m     method \u001b[38;5;241m=\u001b[39m \u001b[43mmodels\u001b[49m\u001b[38;5;241m.\u001b[39mtree,\n\u001b[0;32m     17\u001b[0m     method_params \u001b[38;5;241m=\u001b[39m \u001b[38;5;28;01mNone\u001b[39;00m,\n\u001b[0;32m     18\u001b[0m     return_importances \u001b[38;5;241m=\u001b[39m \u001b[38;5;28;01mFalse\u001b[39;00m,\n\u001b[0;32m     19\u001b[0m     n_jobs\u001b[38;5;241m=\u001b[39m\u001b[38;5;241m-\u001b[39m\u001b[38;5;241m1\u001b[39m,\n\u001b[0;32m     20\u001b[0m     verbose\u001b[38;5;241m=\u001b[39m\u001b[38;5;28;01mFalse\u001b[39;00m,\n\u001b[0;32m     21\u001b[0m ):\n\u001b[0;32m     23\u001b[0m     sss \u001b[38;5;241m=\u001b[39m StratifiedShuffleSplit(n_splits\u001b[38;5;241m=\u001b[39mn_splits, test_size\u001b[38;5;241m=\u001b[39mtest_size)\n\u001b[0;32m     25\u001b[0m     \u001b[38;5;28;01mfor\u001b[39;00m train_val,test \u001b[38;5;129;01min\u001b[39;00m sss\u001b[38;5;241m.\u001b[39msplit(X,y):\n",
      "\u001b[1;31mNameError\u001b[0m: name 'models' is not defined"
     ]
    }
   ],
   "source": [
    "import os\n",
    "import pandas as pd\n",
    "import numpy as np\n",
    "\n",
    "from sklearn.model_selection import StratifiedShuffleSplit\n",
    "\n",
    "import sys\n",
    "sys.path.append(os.chdir)\n",
    "import models\n",
    "\n",
    "def perform_stability_runs_classification(\n",
    "    X,\n",
    "    y,\n",
    "    test_size,\n",
    "    n_splits = 10,\n",
    "    method = models.tree,\n",
    "    method_params = None,\n",
    "    return_importances = False,\n",
    "    n_jobs=-1,\n",
    "    verbose=False,\n",
    "):\n",
    "\n",
    "    sss = StratifiedShuffleSplit(n_splits=n_splits, test_size=test_size)\n",
    "\n",
    "    for train_val,test in sss.split(X,y):\n",
    "        X_train_val, y_train_val = X[train_val], y[train_val]\n",
    "        X_test, y_test = X[test], y[test]\n",
    "\n",
    "        cur_results_dict = method(\n",
    "            X_train_val, \n",
    "            y_train_val, \n",
    "            X_test, \n",
    "            y_test, \n",
    "            return_importances=return_importances, \n",
    "            n_jobs=n_jobs, \n",
    "            verbose=verbose, \n",
    "            **method_params\n",
    "            )\n",
    "        print(cur_results_dict)"
   ]
  }
 ],
 "metadata": {
  "kernelspec": {
   "display_name": "baria_5y",
   "language": "python",
   "name": "python3"
  },
  "language_info": {
   "codemirror_mode": {
    "name": "ipython",
    "version": 3
   },
   "file_extension": ".py",
   "mimetype": "text/x-python",
   "name": "python",
   "nbconvert_exporter": "python",
   "pygments_lexer": "ipython3",
   "version": "3.9.18"
  }
 },
 "nbformat": 4,
 "nbformat_minor": 2
}
